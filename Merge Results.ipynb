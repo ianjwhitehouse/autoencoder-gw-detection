{
 "cells": [
  {
   "cell_type": "code",
   "execution_count": 1,
   "id": "82067fd8",
   "metadata": {
    "execution": {
     "iopub.execute_input": "2024-03-22T20:45:39.095741Z",
     "iopub.status.busy": "2024-03-22T20:45:39.094950Z",
     "iopub.status.idle": "2024-03-22T20:45:39.111092Z",
     "shell.execute_reply": "2024-03-22T20:45:39.109675Z"
    }
   },
   "outputs": [],
   "source": [
    "#Settings\n",
    "\n",
    "FOLDERS = [\n",
    "    \"Task1-2\",\n",
    "    \"Task2-10-2\",\n",
    "    \"Task2-25-2\",\n",
    "    \"Task2-50-2\",\n",
    "    \"Task3-2\",\n",
    "    \"new_O3\",\n",
    "][::-1]\n",
    "FILE = \"Final LL Classifiers Table.csv\"\n",
    "COLUMNS = [\n",
    "    \"Dataset\",\n",
    "    \"Input Size\",\n",
    "    \"Type\",\n",
    "    \"Classifier\",\n",
    "    \"Formated Results\",\n",
    "    \"Area Under Curve\",\n",
    "    \"Autoencoders\"\n",
    "]"
   ]
  },
  {
   "cell_type": "code",
   "execution_count": 2,
   "id": "af0be0e3",
   "metadata": {
    "execution": {
     "iopub.execute_input": "2024-03-22T20:45:39.117678Z",
     "iopub.status.busy": "2024-03-22T20:45:39.116660Z",
     "iopub.status.idle": "2024-03-22T20:45:39.401983Z",
     "shell.execute_reply": "2024-03-22T20:45:39.401251Z"
    }
   },
   "outputs": [
    {
     "name": "stderr",
     "output_type": "stream",
     "text": [
      "/tmp/ipykernel_133136/2062511192.py:2: DeprecationWarning: \n",
      "Pyarrow will become a required dependency of pandas in the next major release of pandas (pandas 3.0),\n",
      "(to allow more performant data types, such as the Arrow string type, and better interoperability with other libraries)\n",
      "but was not found to be installed on your system.\n",
      "If this would cause problems for you,\n",
      "please provide us feedback at https://github.com/pandas-dev/pandas/issues/54466\n",
      "        \n",
      "  import pandas as pd\n"
     ]
    },
    {
     "data": {
      "text/html": [
       "<div>\n",
       "<style scoped>\n",
       "    .dataframe tbody tr th:only-of-type {\n",
       "        vertical-align: middle;\n",
       "    }\n",
       "\n",
       "    .dataframe tbody tr th {\n",
       "        vertical-align: top;\n",
       "    }\n",
       "\n",
       "    .dataframe thead th {\n",
       "        text-align: right;\n",
       "    }\n",
       "</style>\n",
       "<table border=\"1\" class=\"dataframe\">\n",
       "  <thead>\n",
       "    <tr style=\"text-align: right;\">\n",
       "      <th></th>\n",
       "      <th>Dataset</th>\n",
       "      <th>Input Size</th>\n",
       "      <th>Type</th>\n",
       "      <th>Classifier</th>\n",
       "      <th>Formated Results</th>\n",
       "      <th>Area Under Curve</th>\n",
       "      <th>Autoencoders</th>\n",
       "    </tr>\n",
       "  </thead>\n",
       "  <tbody>\n",
       "    <tr>\n",
       "      <th>0</th>\n",
       "      <td>O3 Run</td>\n",
       "      <td>4096</td>\n",
       "      <td>Vanilla AE (0.75 Masked)</td>\n",
       "      <td>ReconstructionThreshold_0.80</td>\n",
       "      <td>0.5787 (0.4624, 0.7737)</td>\n",
       "      <td>NaN</td>\n",
       "      <td>20240218020836:20240218031030:20240218034819:2...</td>\n",
       "    </tr>\n",
       "    <tr>\n",
       "      <th>1</th>\n",
       "      <td>O3 Run</td>\n",
       "      <td>4096</td>\n",
       "      <td>Vanilla AE (0.75 Masked)</td>\n",
       "      <td>XGBClassifier</td>\n",
       "      <td>0.5766 (0.5722, 0.6057)</td>\n",
       "      <td>0.592611</td>\n",
       "      <td>20240213233936:20240214000418:20240214002955:2...</td>\n",
       "    </tr>\n",
       "    <tr>\n",
       "      <th>2</th>\n",
       "      <td>O3 Run</td>\n",
       "      <td>4096</td>\n",
       "      <td>Vanilla AE (0.75 Masked)</td>\n",
       "      <td>LogisticRegression</td>\n",
       "      <td>0.5698 (0.5602, 0.5985)</td>\n",
       "      <td>0.557470</td>\n",
       "      <td>20240213233936:20240214000418:20240214002955:2...</td>\n",
       "    </tr>\n",
       "    <tr>\n",
       "      <th>3</th>\n",
       "      <td>O3 Run</td>\n",
       "      <td>4096</td>\n",
       "      <td>Vanilla AE (0.75 Masked)</td>\n",
       "      <td>GradientBoostingClassifier</td>\n",
       "      <td>0.5452 (0.5623, 0.5546)</td>\n",
       "      <td>0.548749</td>\n",
       "      <td>20240213233936:20240214000418:20240214002955:2...</td>\n",
       "    </tr>\n",
       "    <tr>\n",
       "      <th>4</th>\n",
       "      <td>O3 Run</td>\n",
       "      <td>4096</td>\n",
       "      <td>Vanilla AE (0.75 Masked)</td>\n",
       "      <td>ExtraTreesClassifier</td>\n",
       "      <td>0.5418 (0.5063, 0.5952)</td>\n",
       "      <td>0.576354</td>\n",
       "      <td>20240214092202:20240214114731:20240214142943:2...</td>\n",
       "    </tr>\n",
       "  </tbody>\n",
       "</table>\n",
       "</div>"
      ],
      "text/plain": [
       "  Dataset  Input Size                      Type                    Classifier  \\\n",
       "0  O3 Run        4096  Vanilla AE (0.75 Masked)  ReconstructionThreshold_0.80   \n",
       "1  O3 Run        4096  Vanilla AE (0.75 Masked)                 XGBClassifier   \n",
       "2  O3 Run        4096  Vanilla AE (0.75 Masked)            LogisticRegression   \n",
       "3  O3 Run        4096  Vanilla AE (0.75 Masked)    GradientBoostingClassifier   \n",
       "4  O3 Run        4096  Vanilla AE (0.75 Masked)          ExtraTreesClassifier   \n",
       "\n",
       "          Formated Results  Area Under Curve  \\\n",
       "0  0.5787 (0.4624, 0.7737)               NaN   \n",
       "1  0.5766 (0.5722, 0.6057)          0.592611   \n",
       "2  0.5698 (0.5602, 0.5985)          0.557470   \n",
       "3  0.5452 (0.5623, 0.5546)          0.548749   \n",
       "4  0.5418 (0.5063, 0.5952)          0.576354   \n",
       "\n",
       "                                        Autoencoders  \n",
       "0  20240218020836:20240218031030:20240218034819:2...  \n",
       "1  20240213233936:20240214000418:20240214002955:2...  \n",
       "2  20240213233936:20240214000418:20240214002955:2...  \n",
       "3  20240213233936:20240214000418:20240214002955:2...  \n",
       "4  20240214092202:20240214114731:20240214142943:2...  "
      ]
     },
     "execution_count": 2,
     "metadata": {},
     "output_type": "execute_result"
    }
   ],
   "source": [
    "# Load all into Dataframe\n",
    "import pandas as pd\n",
    "\n",
    "filenames = [folder + \"/\" + FILE for folder in FOLDERS]\n",
    "dfs = [pd.read_csv(filename)[COLUMNS] for filename in filenames]\n",
    "\n",
    "concated_data = pd.concat(dfs) # .sort_values([\"Input Size\"])\n",
    "concated_data.head()"
   ]
  },
  {
   "cell_type": "code",
   "execution_count": 3,
   "id": "bbdcf609",
   "metadata": {
    "execution": {
     "iopub.execute_input": "2024-03-22T20:45:39.408668Z",
     "iopub.status.busy": "2024-03-22T20:45:39.408372Z",
     "iopub.status.idle": "2024-03-22T20:45:39.424711Z",
     "shell.execute_reply": "2024-03-22T20:45:39.423819Z"
    }
   },
   "outputs": [],
   "source": [
    "# Save DF\n",
    "\n",
    "concated_data.to_csv(\"Concated Results.csv\")"
   ]
  },
  {
   "cell_type": "code",
   "execution_count": 4,
   "id": "6aa9a892",
   "metadata": {
    "execution": {
     "iopub.execute_input": "2024-03-22T20:45:39.429253Z",
     "iopub.status.busy": "2024-03-22T20:45:39.429102Z",
     "iopub.status.idle": "2024-03-22T20:45:39.455962Z",
     "shell.execute_reply": "2024-03-22T20:45:39.455278Z"
    }
   },
   "outputs": [
    {
     "data": {
      "text/plain": [
       "8707"
      ]
     },
     "execution_count": 4,
     "metadata": {},
     "output_type": "execute_result"
    }
   ],
   "source": [
    "# Count number of runs\n",
    "\n",
    "filenames = [folder + \"/\" + \"ae_trials.csv\" for folder in FOLDERS]\n",
    "dfs = [pd.read_csv(filename)[\"name\"] for filename in filenames]\n",
    "\n",
    "concated_data = pd.concat(dfs)\n",
    "len(concated_data.values.tolist())"
   ]
  },
  {
   "cell_type": "code",
   "execution_count": null,
   "id": "5ab0d575",
   "metadata": {},
   "outputs": [],
   "source": []
  }
 ],
 "metadata": {
  "kernelspec": {
   "display_name": "tf",
   "language": "python",
   "name": "tf"
  },
  "language_info": {
   "codemirror_mode": {
    "name": "ipython",
    "version": 3
   },
   "file_extension": ".py",
   "mimetype": "text/x-python",
   "name": "python",
   "nbconvert_exporter": "python",
   "pygments_lexer": "ipython3",
   "version": "3.10.12"
  }
 },
 "nbformat": 4,
 "nbformat_minor": 5
}
