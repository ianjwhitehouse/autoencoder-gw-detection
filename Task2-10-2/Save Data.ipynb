{
 "cells": [
  {
   "cell_type": "code",
   "execution_count": 1,
   "id": "04e4accf",
   "metadata": {},
   "outputs": [],
   "source": [
    "# Parameters\n",
    "\n",
    "ATTEMPTS = [0, 1, 2, 3, 4]\n",
    "SECONDS = 3\n",
    "INPUT_SIZE = 4096 * SECONDS"
   ]
  },
  {
   "cell_type": "code",
   "execution_count": 2,
   "id": "69f3c1ab",
   "metadata": {},
   "outputs": [
    {
     "name": "stdout",
     "output_type": "stream",
     "text": [
      "30\n"
     ]
    }
   ],
   "source": [
    "# Load waves\n",
    "import pandas as pd\n",
    "\n",
    "test_splits = []\n",
    "train_splits = []\n",
    "for attempt in ATTEMPTS:\n",
    "    split = pd.read_csv(\"data/attempt%d/test_%d_sec_%d.csv\" % (attempt, SECONDS, attempt), header=None).values.tolist()\n",
    "    test_splits.append([(w[3:], (0, 1) if w[2] == 1 else (1, 0)) for w in split])\n",
    "    \n",
    "    split = pd.read_csv(\"data/attempt%d/train_%d_sec_%d_1.csv\" % (attempt, SECONDS, attempt), header=None).values.tolist()\n",
    "    train_splits.append([])\n",
    "    for s in split:\n",
    "        assert s[2] == 0\n",
    "        train_splits[-1].append(s[3:])\n",
    "    \n",
    "assert len(train_splits[0][0]) == 4096 * SECONDS and len(test_splits[0][0][0]) == 4096 * SECONDS\n",
    "print(len(test_splits[0]))"
   ]
  },
  {
   "cell_type": "code",
   "execution_count": 3,
   "id": "76dbeaec",
   "metadata": {},
   "outputs": [],
   "source": [
    "# Save to big pickle file\n",
    "from pickle import dump\n",
    "\n",
    "dump(([[s[0] for s in t] for t in test_splits], [[s[1] for s in t] for t in test_splits]), open(\"data/test_%d_%d.pickle\" % (INPUT_SIZE, SECONDS), \"wb+\"))\n",
    "dump(train_splits, open(\"data/train_%d_%d.pickle\" % (INPUT_SIZE, SECONDS), \"wb+\"))"
   ]
  },
  {
   "cell_type": "code",
   "execution_count": null,
   "id": "2720d0c0",
   "metadata": {},
   "outputs": [],
   "source": []
  }
 ],
 "metadata": {
  "kernelspec": {
   "display_name": "tf",
   "language": "python",
   "name": "tf"
  },
  "language_info": {
   "codemirror_mode": {
    "name": "ipython",
    "version": 3
   },
   "file_extension": ".py",
   "mimetype": "text/x-python",
   "name": "python",
   "nbconvert_exporter": "python",
   "pygments_lexer": "ipython3",
   "version": "3.7.16"
  }
 },
 "nbformat": 4,
 "nbformat_minor": 5
}
