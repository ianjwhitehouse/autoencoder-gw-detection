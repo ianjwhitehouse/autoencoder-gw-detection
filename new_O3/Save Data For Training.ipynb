{
 "cells": [
  {
   "cell_type": "code",
   "execution_count": 1,
   "id": "05f98d6f",
   "metadata": {},
   "outputs": [],
   "source": [
    "# Constants\n",
    "INPUT_SIZE = 4096 # [512, 1024, 2048, 4096]\n",
    "\n",
    "SPLITS = (0, 1, 2, 3, 4, 5, 6, 7)\n",
    "NUMBER_OF_NEW_SPLITS = 4\n",
    "SHIFTS = [0, 512, 1024] # Default is 0\n",
    "NUMBER_OF_TRAIN_SAMPLES = 10_000\n",
    "PER_SPLIT = 100"
   ]
  },
  {
   "cell_type": "code",
   "execution_count": 2,
   "id": "71983eaf",
   "metadata": {},
   "outputs": [
    {
     "name": "stderr",
     "output_type": "stream",
     "text": [
      "/tmp/ipykernel_1315584/3867674829.py:2: DeprecationWarning: \n",
      "Pyarrow will become a required dependency of pandas in the next major release of pandas (pandas 3.0),\n",
      "(to allow more performant data types, such as the Arrow string type, and better interoperability with other libraries)\n",
      "but was not found to be installed on your system.\n",
      "If this would cause problems for you,\n",
      "please provide us feedback at https://github.com/pandas-dev/pandas/issues/54466\n",
      "        \n",
      "  import pandas as pd\n"
     ]
    },
    {
     "name": "stdout",
     "output_type": "stream",
     "text": [
      "Loaded 0\n",
      "Loaded 1\n",
      "Loaded 2\n",
      "Loaded 3\n",
      "Loaded 4\n",
      "Loaded 5\n",
      "Loaded 6\n",
      "Loaded 7\n"
     ]
    }
   ],
   "source": [
    "# Load datasets\n",
    "import pandas as pd\n",
    "import numpy as np\n",
    "from random import sample\n",
    "\n",
    "train = []\n",
    "tests = []\n",
    "for split in SPLITS:\n",
    "    train += pd.read_pickle(\"data/split_%s_train.pickle.gzip\" % split).values.tolist()\n",
    "    tests += pd.read_pickle(\"data/split_%s_test.pickle.gzip\" % split).values.tolist()\n",
    "    print(\"Loaded %s\" % split)\n",
    "\n",
    "# FIND CLASS DIST\n",
    "train = sample([(t[6::], (1, 0)) for t in train], NUMBER_OF_NEW_SPLITS * PER_SPLIT)\n",
    "test = sample([(t[0], t[6::], (0, 1) if t[3] == 1 else (1, 0)) for t in tests if (t[3] == 1 and abs(t[5]) in SHIFTS and abs(t[5]) <= INPUT_SIZE) or t[3] == 0], NUMBER_OF_NEW_SPLITS * PER_SPLIT)"
   ]
  },
  {
   "cell_type": "markdown",
   "id": "eef88929",
   "metadata": {},
   "source": [
    "### Setup Tests"
   ]
  },
  {
   "cell_type": "code",
   "execution_count": 3,
   "id": "b876f8dc",
   "metadata": {},
   "outputs": [
    {
     "name": "stdout",
     "output_type": "stream",
     "text": [
      "31\n"
     ]
    }
   ],
   "source": [
    "# Balance tests\n",
    "from random import shuffle\n",
    "\n",
    "new_test_pos = [t for t in test if np.argmax(t[2]) == 1]\n",
    "new_test_neg = [(t[1], t[2]) for t in test if np.argmax(t[2]) == 0]\n",
    "shuffle(new_test_neg)\n",
    "\n",
    "waves = list(set([t[0] for t in new_test_pos]))\n",
    "shuffle(waves)\n",
    "new_waves = []\n",
    "split = len(waves)//NUMBER_OF_NEW_SPLITS\n",
    "print(len(waves))\n",
    "\n",
    "for _ in range(NUMBER_OF_NEW_SPLITS):\n",
    "    new_waves.append(waves[:split])\n",
    "    del waves[:split]\n",
    "\n",
    "tests = []\n",
    "neg_split = len(new_test_neg)//NUMBER_OF_NEW_SPLITS\n",
    "for i, waves in enumerate(new_waves):\n",
    "    tests.append([(t[1], t[2]) for t in new_test_pos if t[0] in waves])\n",
    "    neg_samples_len = min([len(tests[i]), neg_split])\n",
    "    tests[i] += new_test_neg[:neg_samples_len]\n",
    "    del new_test_neg[:neg_samples_len]\n"
   ]
  },
  {
   "cell_type": "code",
   "execution_count": 4,
   "id": "551bae53",
   "metadata": {},
   "outputs": [
    {
     "name": "stdout",
     "output_type": "stream",
     "text": [
      "24\n"
     ]
    }
   ],
   "source": [
    "# Separate only the x values\n",
    "x_tests = [[t[0] for t in test] for test in tests]\n",
    "y_tests = [[t[1] for t in test] for test in tests]\n",
    "\n",
    "print(len(y_tests[0]))"
   ]
  },
  {
   "cell_type": "code",
   "execution_count": 5,
   "id": "d5de07e3",
   "metadata": {},
   "outputs": [],
   "source": [
    "# Select only the center of the test segments\n",
    "new_xtests = []\n",
    "\n",
    "if INPUT_SIZE == 4096:\n",
    "    new_xtests = [x_test for x_test in x_tests]\n",
    "else:\n",
    "    for x_test in x_tests:\n",
    "        center_point = len(x_test[0])//2\n",
    "        starting_point = center_point - (INPUT_SIZE//2)\n",
    "        ending_point = center_point + (INPUT_SIZE//2)\n",
    "\n",
    "        x_test = [t[starting_point:ending_point] for t in x_test]\n",
    "\n",
    "        for t in x_test:\n",
    "            assert len(t) == INPUT_SIZE\n",
    "\n",
    "        new_xtests.append(x_test)\n",
    "\n",
    "x_tests = new_xtests"
   ]
  },
  {
   "cell_type": "code",
   "execution_count": 6,
   "id": "6689f61a",
   "metadata": {},
   "outputs": [
    {
     "name": "stdout",
     "output_type": "stream",
     "text": [
      "4\n",
      "[24, 16, 24, 22]\n",
      "4096\n",
      "4\n",
      "[24, 16, 24, 22]\n",
      "2\n"
     ]
    }
   ],
   "source": [
    "print(len(x_tests))\n",
    "print([len(x) for x in x_tests])\n",
    "print(len(x_tests[0][0]))\n",
    "\n",
    "print(len(y_tests))\n",
    "print([len(y) for y in y_tests])\n",
    "print(len(y_tests[0][0]))"
   ]
  },
  {
   "cell_type": "markdown",
   "id": "d694f361",
   "metadata": {},
   "source": [
    "### Setup Train"
   ]
  },
  {
   "cell_type": "code",
   "execution_count": 7,
   "id": "3bc0d726",
   "metadata": {},
   "outputs": [],
   "source": [
    "# Separate xs\n",
    "x_trains = [t[0] for t in train]\n",
    "x_trains = [train[split::NUMBER_OF_NEW_SPLITS][:100] for split in range(NUMBER_OF_NEW_SPLITS)]"
   ]
  },
  {
   "cell_type": "code",
   "execution_count": 8,
   "id": "9a4ab0f1",
   "metadata": {},
   "outputs": [],
   "source": [
    "# Select only the center of the train segments\n",
    "new_xtrains = []\n",
    "\n",
    "if INPUT_SIZE == 4096:\n",
    "    new_xtrains = [x_train for x_train in x_trains]\n",
    "else:\n",
    "    for x_train in x_trains:\n",
    "        center_point = len(x_train[0])//2\n",
    "        starting_point = center_point - (INPUT_SIZE//2)\n",
    "        ending_point = center_point + (INPUT_SIZE//2)\n",
    "\n",
    "        x_train = [t[starting_point:ending_point] for t in x_train]\n",
    "\n",
    "        for t in x_train:\n",
    "            assert len(t) == INPUT_SIZE\n",
    "\n",
    "        new_xtrains.append(x_train)\n",
    "\n",
    "x_trains = new_xtrains"
   ]
  },
  {
   "cell_type": "code",
   "execution_count": 9,
   "id": "6f5a2836",
   "metadata": {},
   "outputs": [
    {
     "name": "stdout",
     "output_type": "stream",
     "text": [
      "4\n",
      "[100, 100, 100, 100]\n",
      "2\n"
     ]
    }
   ],
   "source": [
    "print(len(x_trains))\n",
    "print([len(x) for x in x_trains])\n",
    "print(len(x_trains[0][0]))"
   ]
  },
  {
   "cell_type": "code",
   "execution_count": 10,
   "id": "6a202979",
   "metadata": {},
   "outputs": [
    {
     "ename": "ValueError",
     "evalue": "setting an array element with a sequence. The requested array has an inhomogeneous shape after 1 dimensions. The detected shape was (2,) + inhomogeneous part.",
     "output_type": "error",
     "traceback": [
      "\u001b[0;31m---------------------------------------------------------------------------\u001b[0m",
      "\u001b[0;31mValueError\u001b[0m                                Traceback (most recent call last)",
      "Cell \u001b[0;32mIn[10], line 10\u001b[0m\n\u001b[1;32m      7\u001b[0m     \u001b[38;5;28;01mreturn\u001b[39;00m lst\u001b[38;5;241m.\u001b[39mtolist()\n\u001b[1;32m      9\u001b[0m x_tests \u001b[38;5;241m=\u001b[39m [[min_max(x) \u001b[38;5;28;01mfor\u001b[39;00m x \u001b[38;5;129;01min\u001b[39;00m split] \u001b[38;5;28;01mfor\u001b[39;00m split \u001b[38;5;129;01min\u001b[39;00m x_tests]\n\u001b[0;32m---> 10\u001b[0m x_train \u001b[38;5;241m=\u001b[39m [[min_max(x) \u001b[38;5;28;01mfor\u001b[39;00m x \u001b[38;5;129;01min\u001b[39;00m split] \u001b[38;5;28;01mfor\u001b[39;00m split \u001b[38;5;129;01min\u001b[39;00m x_trains]\n",
      "Cell \u001b[0;32mIn[10], line 10\u001b[0m, in \u001b[0;36m<listcomp>\u001b[0;34m(.0)\u001b[0m\n\u001b[1;32m      7\u001b[0m     \u001b[38;5;28;01mreturn\u001b[39;00m lst\u001b[38;5;241m.\u001b[39mtolist()\n\u001b[1;32m      9\u001b[0m x_tests \u001b[38;5;241m=\u001b[39m [[min_max(x) \u001b[38;5;28;01mfor\u001b[39;00m x \u001b[38;5;129;01min\u001b[39;00m split] \u001b[38;5;28;01mfor\u001b[39;00m split \u001b[38;5;129;01min\u001b[39;00m x_tests]\n\u001b[0;32m---> 10\u001b[0m x_train \u001b[38;5;241m=\u001b[39m [[min_max(x) \u001b[38;5;28;01mfor\u001b[39;00m x \u001b[38;5;129;01min\u001b[39;00m split] \u001b[38;5;28;01mfor\u001b[39;00m split \u001b[38;5;129;01min\u001b[39;00m x_trains]\n",
      "Cell \u001b[0;32mIn[10], line 10\u001b[0m, in \u001b[0;36m<listcomp>\u001b[0;34m(.0)\u001b[0m\n\u001b[1;32m      7\u001b[0m     \u001b[38;5;28;01mreturn\u001b[39;00m lst\u001b[38;5;241m.\u001b[39mtolist()\n\u001b[1;32m      9\u001b[0m x_tests \u001b[38;5;241m=\u001b[39m [[min_max(x) \u001b[38;5;28;01mfor\u001b[39;00m x \u001b[38;5;129;01min\u001b[39;00m split] \u001b[38;5;28;01mfor\u001b[39;00m split \u001b[38;5;129;01min\u001b[39;00m x_tests]\n\u001b[0;32m---> 10\u001b[0m x_train \u001b[38;5;241m=\u001b[39m [[\u001b[43mmin_max\u001b[49m\u001b[43m(\u001b[49m\u001b[43mx\u001b[49m\u001b[43m)\u001b[49m \u001b[38;5;28;01mfor\u001b[39;00m x \u001b[38;5;129;01min\u001b[39;00m split] \u001b[38;5;28;01mfor\u001b[39;00m split \u001b[38;5;129;01min\u001b[39;00m x_trains]\n",
      "Cell \u001b[0;32mIn[10], line 2\u001b[0m, in \u001b[0;36mmin_max\u001b[0;34m(lst)\u001b[0m\n\u001b[1;32m      1\u001b[0m \u001b[38;5;28;01mdef\u001b[39;00m \u001b[38;5;21mmin_max\u001b[39m(lst):\n\u001b[0;32m----> 2\u001b[0m     lst \u001b[38;5;241m=\u001b[39m \u001b[43mnp\u001b[49m\u001b[38;5;241;43m.\u001b[39;49m\u001b[43marray\u001b[49m\u001b[43m(\u001b[49m\u001b[43mlst\u001b[49m\u001b[43m)\u001b[49m\n\u001b[1;32m      3\u001b[0m     strain_min, strain_max \u001b[38;5;241m=\u001b[39m np\u001b[38;5;241m.\u001b[39mmin(lst), np\u001b[38;5;241m.\u001b[39mmax(lst)\n\u001b[1;32m      4\u001b[0m     min_max_diff \u001b[38;5;241m=\u001b[39m strain_max \u001b[38;5;241m-\u001b[39m strain_min\n",
      "\u001b[0;31mValueError\u001b[0m: setting an array element with a sequence. The requested array has an inhomogeneous shape after 1 dimensions. The detected shape was (2,) + inhomogeneous part."
     ]
    }
   ],
   "source": [
    "def min_max(lst):\n",
    "    lst = np.array(lst)\n",
    "    strain_min, strain_max = np.min(lst), np.max(lst)\n",
    "    min_max_diff = strain_max - strain_min\n",
    "    lst -= strain_min\n",
    "    lst /= min_max_diff\n",
    "    return lst.tolist()\n",
    "\n",
    "x_tests = [[min_max(x) for x in split] for split in x_tests]\n",
    "x_train = [[min_max(x) for x in split] for split in x_trains]"
   ]
  },
  {
   "cell_type": "code",
   "execution_count": null,
   "id": "3ceadc29",
   "metadata": {},
   "outputs": [],
   "source": [
    "# Save to big pickle file\n",
    "from pickle import dump\n",
    "\n",
    "dump((x_tests, y_tests), open(\"data/test_%s.pickle\" % INPUT_SIZE, \"wb+\"))\n",
    "dump(x_trains, open(\"data/train_%s.pickle\" % INPUT_SIZE, \"wb+\"))"
   ]
  },
  {
   "cell_type": "code",
   "execution_count": null,
   "id": "f63206e5",
   "metadata": {},
   "outputs": [],
   "source": []
  }
 ],
 "metadata": {
  "kernelspec": {
   "display_name": "tf",
   "language": "python",
   "name": "tf"
  },
  "language_info": {
   "codemirror_mode": {
    "name": "ipython",
    "version": 3
   },
   "file_extension": ".py",
   "mimetype": "text/x-python",
   "name": "python",
   "nbconvert_exporter": "python",
   "pygments_lexer": "ipython3",
   "version": "3.10.12"
  }
 },
 "nbformat": 4,
 "nbformat_minor": 5
}
